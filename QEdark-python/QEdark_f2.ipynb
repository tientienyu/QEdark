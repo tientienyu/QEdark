{
 "cells": [
  {
   "cell_type": "markdown",
   "metadata": {},
   "source": [
    "# Initialize"
   ]
  },
  {
   "cell_type": "code",
   "execution_count": null,
   "metadata": {},
   "outputs": [],
   "source": [
    "!pip install numpy matplotlib scipy"
   ]
  },
  {
   "cell_type": "markdown",
   "metadata": {},
   "source": [
    "## import"
   ]
  },
  {
   "cell_type": "code",
   "execution_count": 1,
   "metadata": {},
   "outputs": [],
   "source": [
    "import sys\n",
    "import os\n",
    "import numpy as np\n",
    "from scipy.special import erf\n",
    "from scipy.integrate import quad\n",
    "from scipy import interpolate\n",
    "from scipy.interpolate import interp1d\n",
    "\n",
    "import matplotlib as mpl\n",
    "import matplotlib.pyplot as plt\n",
    "import matplotlib.ticker as tck\n",
    "\n",
    "from QEdark_constants import *\n",
    "from DM_halo_dist import *"
   ]
  },
  {
   "cell_type": "markdown",
   "metadata": {},
   "source": [
    "## set directories"
   ]
  },
  {
   "cell_type": "code",
   "execution_count": 2,
   "metadata": {},
   "outputs": [],
   "source": [
    "\"\"\"\n",
    "set directories\n",
    "\"\"\"\n",
    "dataDir = os.getcwd()\n",
    "FigDir = os.getcwd() + '/figs'"
   ]
  },
  {
   "cell_type": "markdown",
   "metadata": {},
   "source": [
    "## plotting"
   ]
  },
  {
   "cell_type": "code",
   "execution_count": 4,
   "metadata": {},
   "outputs": [],
   "source": [
    "# plotting specifications\n",
    "#Options\n",
    "params = {'text.usetex' : True,\n",
    "          'font.size' : 14,\n",
    "          'font.family' : 'cmr10'\n",
    "#          'figure.autolayout': True\n",
    "          }\n",
    "plt.rcParams.update(params)\n",
    "plt.rcParams['axes.unicode_minus']=False\n",
    "plt.rcParams['axes.labelsize']=16\n",
    "plt.rcParams['figure.figsize']=(5,5)\n",
    "\n",
    "cmap = plt.get_cmap(\"tab10\") # default color cycle, call by using color=cmap(i) i=0 is blue\n",
    "#reversed('RdBu')"
   ]
  },
  {
   "cell_type": "markdown",
   "metadata": {},
   "source": [
    "# define useful functions"
   ]
  },
  {
   "cell_type": "code",
   "execution_count": null,
   "metadata": {},
   "outputs": [],
   "source": [
    "rho_X = 0.4e9 # eV/cm^3\n",
    "v0 = 230e5 # cm/s\n",
    "vE = 240e5\n",
    "vesc = 600e5"
   ]
  },
  {
   "cell_type": "code",
   "execution_count": 6,
   "metadata": {},
   "outputs": [],
   "source": [
    "def vmin(EE,qin,mX):\n",
    "    q = qin * alpha *me_eV\n",
    "    return (EE/q+q/(2*mX))*c_light*1e-3 # to convert to km/s"
   ]
  },
  {
   "cell_type": "markdown",
   "metadata": {},
   "source": [
    "Check the general behavior of $v_{\\rm min}$"
   ]
  },
  {
   "cell_type": "code",
   "execution_count": 7,
   "metadata": {},
   "outputs": [
    {
     "name": "stderr",
     "output_type": "stream",
     "text": [
      "<ipython-input-6-b9aaa8779b05>:3: RuntimeWarning: divide by zero encountered in true_divide\n",
      "  return (EE/q+q/(2*mX))*c_light*1e-3 # to convert to km/s\n",
      "<ipython-input-6-b9aaa8779b05>:3: RuntimeWarning: invalid value encountered in true_divide\n",
      "  return (EE/q+q/(2*mX))*c_light*1e-3 # to convert to km/s\n"
     ]
    },
    {
     "data": {
      "image/png": "[encoded data removed]",
      "text/plain": [
       "<Figure size 432x360 with 2 Axes>"
      ]
     },
     "metadata": {
      "needs_background": "light"
     },
     "output_type": "display_data"
    }
   ],
   "source": [
    "EE = np.linspace(0, 50, 50)\n",
    "q = np.linspace(0, 10, 50)\n",
    "\n",
    "alpha = 1/137.\n",
    "\n",
    "X, Y = np.meshgrid(EE, q)\n",
    "Z = vmin(X, Y,10e6)\n",
    "\n",
    "fig = plt.figure(figsize=(6,5))\n",
    "left, bottom, width, height = 0.1, 0.1, 0.8, 0.8\n",
    "ax = fig.add_axes([left, bottom, width, height])\n",
    "\n",
    "vmax = [(vE+vesc)*1e-5]\n",
    "levels = [100,300,500,700,1000,5000]\n",
    "contour = plt.contour(X, Y, Z, vmax, colors = 'white')\n",
    "plt.clabel(contour, colors = 'white', fmt = '%2.1f', fontsize=12)\n",
    "contour_filled = plt.contourf(X, Y, Z, levels,cmap='RdBu')\n",
    "plt.colorbar(contour_filled)\n",
    "\n",
    "ax.set_title(r'$v_{\\rm min}$ [km/s]')\n",
    "ax.set_xlabel(r'$E$ [eV]')\n",
    "ax.set_ylabel(r'$q~[\\alpha m_e$]')\n",
    "plt.show()\n",
    "#fig.savefig(FigDir+'vmin.pdf',bbox_inches='tight')"
   ]
  },
  {
   "cell_type": "markdown",
   "metadata": {
    "toc-hr-collapsed": true
   },
   "source": [
    "## Load fcrystal and define rate/sigma functions"
   ]
  },
  {
   "cell_type": "markdown",
   "metadata": {},
   "source": [
    "Load the crystal form-factors calculated by $\\tt QEdark$. This requires the number of $q$-bins (nq) and the number of $E$-bins (nE); these numbers (nq, nE) are listed as the first row of $\\it Si\\_f2.txt$ and $\\it Ge\\_f2.txt$.\n",
    "\n",
    "The dictionary $\\tt materials$ contains the material specific information: $M_{\\rm cell}, E_{\\rm prefactor}, E_{\\rm gap}, \\epsilon$, and $f_{\\rm crys}$. The first 4 parameters should be specified in units of eV. $E_{\\rm prefactor}=2\\pi^2(\\alpha m_e^2 V_{\\rm cell})^{-1}$, where $V_{\\rm cell}$ is the volume of the unit cell. $f_{\\rm crys}$ corresponds to $\\frac{w_{\\vec k}}{2}\\frac{w_{\\vec k}}{2}|f_{[i\\vec k,i'\\vec k',\\vec G']}|^2$ in eq. (4.4) of arXiv:1509.01598. \n",
    "\n",
    "The functions defined are:\n",
    "- ${\\tt FDM(q_eV,n)}$: DM form factor\n",
    "- ${\\tt mu_Xe(mX)}$: DM-electron reduced mass, input is mX in eV\n",
    "- ${\\tt dRdE(material, mX, Ee, FDMn, halo, params)}$: differential scattering rate for sigma_e = 1 cm^2 at a fixed electron energy Ee given a DM mass, FDM, halo model; returns dR/dE [events/kg/year]\n",
    "- ${\\tt dRdne(material, mX, ne, FDMn, halo, params)}$: calculates rate for sigmae = 1 cm^2 in the ne bin, assuming fiducial values $\\epsilon$ for binsize Si: 3.8 eV, Ge: 2.9 eV; returns dRdne [events/kg/year]\n",
    "- ${\\tt dRdnearray(material, mX, Ebin, FDMn, halo, params)}$: binlist [eV], dRdne [events/kg/year/Ebin]\n",
    "- ${\\tt sigmae(mXlist, material, nevents, exposure, ne, FDMn, halo, params)}$: cross-section assuming nevents (3 for bkgdfree), exposure is in kg-years, takes in array of mX in MeV; returns mX [MeV], sigma_e [cm^2]"
   ]
  },
  {
   "cell_type": "code",
   "execution_count": 8,
   "metadata": {},
   "outputs": [],
   "source": [
    "dQ = .02*alpha*me_eV #eV\n",
    "dE = 0.1 # eV\n",
    "wk = 2/137\n",
    "\n",
    "## import QEdark data\n",
    "nq = 900\n",
    "nE = 500\n",
    "\n",
    "fcrys = {'Si': np.transpose(np.resize(np.loadtxt(dataDir+'/Si_f2.txt',skiprows=1),(nE,nq))),\n",
    "         'Ge': np.transpose(np.resize(np.loadtxt(dataDir+'/Ge_f2.txt',skiprows=1),(nE,nq)))}\n",
    "\n",
    "\"\"\"\n",
    "    materials = {name: [Mcell #eV, Eprefactor, Egap #eV, epsilon #eV, fcrys]}\n",
    "    N.B. If you generate your own fcrys from QEdark, please remove the factor of \"wk/4\" below. \n",
    "\"\"\"\n",
    "materials = {'Si': [2*28.0855*amu2kg, 2.0, 1.2, 3.8,wk/4*fcrys['Si']], \\\n",
    "             'Ge': [2*72.64*amu2kg, 1.8, 0.7, 2.8,wk/4*fcrys['Ge']]}\n",
    "\n",
    "def FDM(q_eV,n):\n",
    "    \"\"\"\n",
    "    DM form factor\n",
    "    n = 0: FDM=1, heavy mediator\n",
    "    n = 1: FDM~1/q, electric dipole\n",
    "    n = 2: FDM~1/q^2, light mediator\n",
    "    \"\"\"\n",
    "    return (alpha*me_eV/q_eV)**n\n",
    "\n",
    "def mu_Xe(mX):\n",
    "    \"\"\"\n",
    "    DM-electron reduced mass\n",
    "    \"\"\"\n",
    "    return mX*me_eV/(mX+me_eV)\n",
    "\n",
    "def dRdE(material, mX, Ee, FDMn, halo, params):\n",
    "    \"\"\"\n",
    "    differential scattering rate for sigma_e = 1 cm^2\n",
    "    at a fixed electron energy Ee\n",
    "    given a DM mass, FDM, halo model\n",
    "    returns dR/dE [events/kg/year]\n",
    "    \"\"\"\n",
    "    n = FDMn\n",
    "    if Ee < materials[material][2]: # check if less than Egap\n",
    "        return 0\n",
    "    else:\n",
    "        qunit = dQ\n",
    "        Eunit = dE\n",
    "        Mcell = materials[material][0]\n",
    "        Eprefactor = materials[material][1]\n",
    "        Ei = int(np.floor(Ee*10)) # eV\n",
    "        prefactor = ccms**2*sec2year*rho_X/mX*1/Mcell*alpha*me_eV**2 / mu_Xe(mX)**2\n",
    "        array_ = np.zeros(nq)\n",
    "        for qi in range(1,nq+1):\n",
    "            q = qi*qunit\n",
    "            vmin = (q/(2*mX)+Ee/q)*ccms\n",
    "            if vmin > (vesc+vE)*1.1: # rough estimate for kinematicaly allowed regions\n",
    "                array_[qi-1] = 0\n",
    "            else:\n",
    "                \"\"\"\n",
    "                define halo model\n",
    "                \"\"\"\n",
    "                if halo == 'shm':\n",
    "                    eta = etaSHM(vmin,params) # (cm/s)^-1 \n",
    "                elif halo == 'tsa':\n",
    "                    eta = etaTsa(vmin,params)\n",
    "                elif halo == 'dpl':\n",
    "                    eta = etaDPL(vmin,params)\n",
    "                elif halo == 'msw':\n",
    "                    eta = etaMSW(vmin,params)\n",
    "                elif halo == 'debris':\n",
    "                    eta = etaDF(vmin,params)\n",
    "                else:\n",
    "                    print(\"Undefined halo parameter. Options are ['shm','tsa','dpl','msw','debris']\")\n",
    "                \"\"\"\n",
    "                define array\n",
    "                \"\"\"\n",
    "                array_[qi-1] = Eprefactor*(1/q)*eta*FDM(q,n)**2*materials[material][4][qi-1, Ei-1]\n",
    "        return prefactor*np.sum(array_, axis=0) # [(kg-year)^-1]\n",
    "\n",
    "def dRdne(material, mX, ne, FDMn, halo, params):\n",
    "    \"\"\"\n",
    "    calculates rate for sigmae = 1 cm^2 in the ne bin, \n",
    "    assuming fiducial values for binsize \n",
    "    Si: 3.8 eV, Ge: 2.9 eV\n",
    "    return dRdne [events/kg/year]\n",
    "    \"\"\"\n",
    "    Ebin = materials[material][3]\n",
    "    ## check if ne is defined\n",
    "    if ne*Ebin > dE*nE:\n",
    "        print('$n_e$ is out of range, pick a smaller value')\n",
    "        return 0\n",
    "    elif ne == 0:\n",
    "        print('$n_e$ must be > 0')\n",
    "        return 0\n",
    "    else:    \n",
    "        tmpEbin = int(np.floor(Ebin/dE))+1\n",
    "        tmpdRdE = np.zeros(tmpEbin)\n",
    "\n",
    "        for i in range(tmpEbin):\n",
    "            ## add up in bins of [1.2,4.9],[5,8.7],...\n",
    "            tmpdRdE[i] = dRdE(material, mX, (ne-1)*Ebin+dE*i+materials[material][2], FDMn, halo, params)\n",
    "        dRdne = np.sum(tmpdRdE, axis = 0)\n",
    "\n",
    "        return dRdne\n",
    "def dRdnearray(material, mX, Ebin, FDMn, halo, params):\n",
    "    \"\"\"\n",
    "    calculates rate for sigmae = 1 cm^2, binned in Ebin, \n",
    "    return binlist [eV], dRdne [events/kg/year/Ebin]\n",
    "    \"\"\"    \n",
    "    numbins = int(np.floor(nE*dE/Ebin))# calculate number of bins of size Ebin\n",
    "    binlist = [materials[material][2]+ii*Ebin for ii in range(numbins)]\n",
    "    tmpEbin = int(np.floor(Ebin/dE))\n",
    "    tmpdRdE = np.zeros(tmpEbin)\n",
    "    array_ = np.zeros(numbins)\n",
    "\n",
    "    for ne in range(numbins-1):\n",
    "        for i in range(tmpEbin):\n",
    "            tmpdRdE[i] = dRdE(material, mX, ne*Ebin+dE*i+materials[material][2], FDMn, halo, params)\n",
    "        array_[ne] = np.sum(tmpdRdE, axis = 0)\n",
    "        \n",
    "    return binlist, array_\n",
    "\n",
    "def sigmae(mXlist, material, nevents, exposure, ne, FDMn, halo, params):\n",
    "    \"\"\"\n",
    "    cross-section assuming nevents (3 for bkgdfree),\n",
    "    exposure is in kg-years,\n",
    "    takes in array of mX in MeV\n",
    "    returns mX [MeV], sigma_e [cm^2]\n",
    "    \"\"\"\n",
    "#    nevents = 3 # for bkgd free experiment\n",
    "    sigmae = np.zeros(len(mXlist))\n",
    "    for iimX in range(len(mXlist)):\n",
    "        mX = mXlist[iimX]*1e6\n",
    "        if dRdne(material, mX, ne, FDMn, halo, params) == 0:\n",
    "            sigmae[iimX] = np.nan\n",
    "        else:\n",
    "            sigmae[iimX] = nevents/(dRdne(material, mX, ne, FDMn, halo, params)*exposure)\n",
    "    return mXlist, sigmae"
   ]
  },
  {
   "cell_type": "markdown",
   "metadata": {},
   "source": [
    "# Examples"
   ]
  },
  {
   "cell_type": "markdown",
   "metadata": {},
   "source": [
    "## rate"
   ]
  },
  {
   "cell_type": "code",
   "execution_count": 65,
   "metadata": {},
   "outputs": [
    {
     "name": "stdout",
     "output_type": "stream",
     "text": [
      "CPU times: user 20.4 s, sys: 287 ms, total: 20.7 s\n",
      "Wall time: 20.8 s\n"
     ]
    },
    {
     "data": {
      "text/plain": [
       "75276.69035540443"
      ]
     },
     "execution_count": 65,
     "metadata": {},
     "output_type": "execute_result"
    }
   ],
   "source": [
    "%%time\n",
    "\"\"\"\n",
    "calculate the rate for fixed number of electrons (ne)\n",
    "\"\"\"\n",
    "mX = 1e7 # 10 MeV\n",
    "ne = 1\n",
    "nFDM = 0\n",
    "elem = 'Si'\n",
    "vhalo = 'shm'\n",
    "vparams = [220e5,232e5,544e5] # cm/s\n",
    "sigmae=1e-37 # cm2\n",
    "\n",
    "sigmae*dRdne(elem,mX,ne,nFDM,vhalo,vparams)"
   ]
  },
  {
   "cell_type": "code",
   "execution_count": 19,
   "metadata": {},
   "outputs": [
    {
     "name": "stdout",
     "output_type": "stream",
     "text": [
      "CPU times: user 1min 56s, sys: 1.54 s, total: 1min 58s\n",
      "Wall time: 1min 58s\n"
     ]
    }
   ],
   "source": [
    "%%time\n",
    "\"\"\"\n",
    "calculate the rate vs ne for specified bin size\n",
    "n.b. sigmae = 1\n",
    "dRdneSHMfidarray is [Ee, dRdnearray]\n",
    "\"\"\"\n",
    "mX = 1e7 # 10 MeV\n",
    "ne = 1\n",
    "nFDM = 0\n",
    "elem = 'Si'\n",
    "binsize = 3.8 # eV\n",
    "vhalo = 'shm'\n",
    "vparams = [220e5,232e5,544e5] # cm/s\n",
    "\n",
    "dRdneSHMfidarray=dRdnearray(elem,mX,binsize,nFDM,vhalo,vparams)"
   ]
  },
  {
   "cell_type": "code",
   "execution_count": 28,
   "metadata": {},
   "outputs": [
    {
     "name": "stdout",
     "output_type": "stream",
     "text": [
      "Ee values [1.2, 5.0, 8.799999999999999, 12.599999999999998, 16.4, 20.2, 23.999999999999996, 27.799999999999997, 31.599999999999998, 35.4, 39.2, 43.0, 46.8]\n",
      "rate values:  [7.19676414e+41 8.23344228e+41 1.47866615e+41 2.28231408e+40\n",
      " 2.70902741e+39 3.59087636e+38 3.10451452e+37 1.55203833e+36\n",
      " 5.53868701e+33 0.00000000e+00 0.00000000e+00 0.00000000e+00\n",
      " 0.00000000e+00]\n"
     ]
    }
   ],
   "source": [
    "# print out Ee values\n",
    "print('Ee values', dRdneSHMfidarray[0])\n",
    "# print out Rate values\n",
    "print('rate values: ',dRdneSHMfidarray[1])"
   ]
  },
  {
   "cell_type": "code",
   "execution_count": 29,
   "metadata": {},
   "outputs": [
    {
     "data": {
      "image/png": "[encoded data removed]",
      "text/plain": [
       "<Figure size 360x360 with 1 Axes>"
      ]
     },
     "metadata": {
      "needs_background": "light"
     },
     "output_type": "display_data"
    }
   ],
   "source": [
    "fig = plt.figure()\n",
    "## definitions for the axes\n",
    "left, width = 0.1, 0.6\n",
    "bottom, height = 0.9, 0.6\n",
    "sigmae=1e-37 # cm2\n",
    "\n",
    "\"\"\"\n",
    "create rate plot\n",
    "\"\"\"\n",
    "ff = interp1d(dRdneSHMfidarray[0],sigmae*dRdneSHMfidarray[1])\n",
    "ax1 = fig.add_axes([left, bottom, width, height])\n",
    "ax1.tick_params(direction='in',top=True, right=True)\n",
    "ax1.step(dRdneSHMfidarray[0],sigmae*dRdneSHMfidarray[1],where='post')\n",
    "#shmfid, = ax1.plot(dRdneSHMfidarray[0],sigmae*dRdneSHMfidarray[1],'o', color='black',label = 'SHM fiducial')\n",
    "ax1.set_ylabel(r'$dR/dE_e\\Delta E_e$ [(kg-year)$^{-1}$]')\n",
    "#ax2.set_ylabel('rel. diff.')\n",
    "ax1.set_title('Standard Halo Model')\n",
    "ax1.set_yscale('log')\n",
    "plt.xlabel(r'$E_e$ [eV]')\n",
    "\n",
    "#plt.tight_layout(pad=0.4, w_pad=0.5, h_pad=1.0)\n",
    "plt.show()"
   ]
  },
  {
   "cell_type": "markdown",
   "metadata": {},
   "source": [
    "## cross-section"
   ]
  },
  {
   "cell_type": "code",
   "execution_count": 11,
   "metadata": {},
   "outputs": [
    {
     "name": "stdout",
     "output_type": "stream",
     "text": [
      "CPU times: user 15min 30s, sys: 12.5 s, total: 15min 43s\n",
      "Wall time: 15min 48s\n"
     ]
    }
   ],
   "source": [
    "%%time\n",
    "\n",
    "\"\"\"\n",
    "define parameters\n",
    "\"\"\"\n",
    "vhalo = 'shm'\n",
    "elem = 'Si'\n",
    "FDMn = 0 # FDM=1\n",
    "nevents = 3 # for background-free \n",
    "exposure = 1 # kg-year\n",
    "mXlist = np.logspace(-1,3,30) # DM mass from 0.1 MeV to 1 GeV, 30 points in log-space\n",
    "## SHM velocity parameters in cm/s [v0,vE,vesc]\n",
    "shmfidparams = [220e5,232e5,544e5]\n",
    "## ne = 1, 2 electrons\n",
    "sigmaSHMfidne1 = sigmae(mXlist,elem,nevents,exposure,1,FDMn,vhalo,shmfidparams)\n",
    "sigmaSHMfidne2 = sigmae(mXlist,elem,nevents,exposure,2,FDMn,vhalo,shmfidparams)\n",
    "\n",
    "## save files to save time later\n",
    "np.savetxt(dataDir+'/sigmaSHMfidne1.txt', sigmaSHMfidne1) \n",
    "np.savetxt(dataDir+'/sigmaSHMfidne2.txt', sigmaSHMfidne2) "
   ]
  },
  {
   "cell_type": "code",
   "execution_count": null,
   "metadata": {},
   "outputs": [],
   "source": [
    "# ## load files \n",
    "# sigmaSHMfidne1 = np.loadtxt(dataDir+'/sigmaSHMfidne1.txt').reshape(2, len(mXlist))\n",
    "# sigmaSHMfidne2 = np.loadtxt(dataDir+'/sigmaSHMfidne2.txt').reshape(2, len(mXlist))"
   ]
  },
  {
   "cell_type": "code",
   "execution_count": 17,
   "metadata": {},
   "outputs": [
    {
     "data": {
      "image/png": "[encoded data removed]",
      "text/plain": [
       "<Figure size 360x360 with 1 Axes>"
      ]
     },
     "metadata": {
      "needs_background": "light"
     },
     "output_type": "display_data"
    }
   ],
   "source": [
    "fig = plt.figure()\n",
    "## definitions for the axes\n",
    "left, width = 0.1, 0.6\n",
    "bottom, height = 0.9, 0.6\n",
    "\n",
    "\"\"\"\n",
    "create cross-section plot\n",
    "\"\"\"\n",
    "ax1 = fig.add_axes([left, bottom, width, height],\n",
    "                   xticklabels=[])\n",
    "ax1.tick_params(direction='in',top=True, right=True)\n",
    "shmline1, = ax1.plot(sigmaSHMfidne1[0],sigmaSHMfidne1[1], color='black',label = 'SHM fiducial $n_e$=1')\n",
    "shmline2, = ax1.plot(sigmaSHMfidne2[0],sigmaSHMfidne2[1], color='black', linestyle = 'dotted',label = 'SHM fiducial $n_e$=2')\n",
    "ax1.set_yscale('log')\n",
    "ax1.set_xscale('log')\n",
    "ax1.set_xlim(0.3, 2000)\n",
    "ax1.set_ylim(1.0e-42, 1.0e-36)\n",
    "\n",
    "first_legend = ax1.legend(handles=[shmline1,shmline2], loc = 'center right',frameon=False, fontsize=12)\n",
    "## add legends\n",
    "ax1.add_artist(first_legend)\n",
    "\n",
    "ax1.set_ylabel(r'$\\overline\\sigma_e$ [cm$^2$]')\n",
    "ax1.set_title('SHM')\n",
    "plt.xlabel(r'$m_\\chi$ [MeV]')\n",
    "\n",
    "#plt.tight_layout(pad=0.4, w_pad=0.5, h_pad=1.0)\n",
    "plt.show()\n",
    "#fig.savefig(FigDir+'sigmae_vs_mX.pdf',bbox_inches='tight')"
   ]
  },
  {
   "cell_type": "code",
   "execution_count": null,
   "metadata": {},
   "outputs": [],
   "source": []
  }
 ],
 "metadata": {
  "kernelspec": {
   "display_name": "Python 3",
   "language": "python",
   "name": "python3"
  },
  "language_info": {
   "codemirror_mode": {
    "name": "ipython",
    "version": 3
   },
   "file_extension": ".py",
   "mimetype": "text/x-python",
   "name": "python",
   "nbconvert_exporter": "python",
   "pygments_lexer": "ipython3",
   "version": "3.9.4"
  },
  "latex_envs": {
   "LaTeX_envs_menu_present": true,
   "autoclose": false,
   "autocomplete": true,
   "bibliofile": "biblio.bib",
   "cite_by": "apalike",
   "current_citInitial": 1,
   "eqLabelWithNumbers": true,
   "eqNumInitial": 1,
   "hotkeys": {
    "equation": "Ctrl-E",
    "itemize": "Ctrl-I"
   },
   "labels_anchors": false,
   "latex_user_defs": false,
   "report_style_numbering": false,
   "user_envs_cfg": false
  },
  "toc": {
   "base_numbering": 1,
   "nav_menu": {},
   "number_sections": true,
   "sideBar": true,
   "skip_h1_title": false,
   "title_cell": "Table of Contents",
   "title_sidebar": "Contents",
   "toc_cell": false,
   "toc_position": {},
   "toc_section_display": true,
   "toc_window_display": false
  },
  "toc-showmarkdowntxt": false
 },
 "nbformat": 4,
 "nbformat_minor": 4
}
